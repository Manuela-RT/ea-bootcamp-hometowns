{
 "cells": [
  {
   "cell_type": "markdown",
   "id": "hollow-quality",
   "metadata": {},
   "source": [
    "# Medellin\n",
    "## Location\n",
    "<h1><center>Latitude: 6.217 Longitude: -75.567</center></h1>\n",
    "\n",
    "## Population: 2.222.213 inhabitants\n",
    "![alt text here](https://www.medellincolombia.co/wp-content/uploads/2015/10/Population-of-Medellin.png)\n",
    "<a href=\"https://www.medellincolombia.co/general-information/medellin-factfile/\" target=\"_blank\">Source</a>\n",
    "\n",
    "## Landmark: Arví Park\n",
    "![alt text here](https://i2.wp.com/www.acimedellin.org/wp-content/uploads/2018/01/parque-arvi.jpg?resize=750%2C375&ssl=1)\n",
    "The Arví Park is an open public park, created for the enjoyment of the entire local community, nationals and foreigners, which through a sustainable tourism offer, tends towards the conservation of environmental, cultural and archeological wealth.\n",
    "\n"
   ]
  }
 ],
 "metadata": {
  "kernelspec": {
   "display_name": "Python 3",
   "language": "python",
   "name": "python3"
  },
  "language_info": {
   "codemirror_mode": {
    "name": "ipython",
    "version": 3
   },
   "file_extension": ".py",
   "mimetype": "text/x-python",
   "name": "python",
   "nbconvert_exporter": "python",
   "pygments_lexer": "ipython3",
   "version": "3.8.6"
  }
 },
 "nbformat": 4,
 "nbformat_minor": 5
}
